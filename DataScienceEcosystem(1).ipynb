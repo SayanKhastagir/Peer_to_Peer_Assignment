{
 "cells": [
  {
   "cell_type": "code",
   "execution_count": 1,
   "id": "df8d2929-6dd0-4e6f-a353-5e4f1752790d",
   "metadata": {
    "tags": []
   },
   "outputs": [
    {
     "name": "stdout",
     "output_type": "stream",
     "text": [
      "Hi this is Sayan\n"
     ]
    }
   ],
   "source": [
    "print(\"Hi this is Sayan\")"
   ]
  },
  {
   "cell_type": "code",
   "execution_count": null,
   "id": "e7ab2977-edeb-42a5-a1da-d5a4b6bdbfa2",
   "metadata": {
    "tags": []
   },
   "outputs": [],
   "source": [
    "# Data Science Tools and Ecosystem"
   ]
  },
  {
   "cell_type": "markdown",
   "id": "9ad47e69-c193-4b63-a497-9a0050813e74",
   "metadata": {
    "tags": []
   },
   "source": [
    "# In this notebook, Data Science Tools and Ecosystem is summarized as \n"
   ]
  },
  {
   "cell_type": "markdown",
   "id": "6a8f91b1-9750-47e1-8972-c2cf6434ee25",
   "metadata": {},
   "source": [
    "### Some of the popular languages that Data Scientists use are:\n",
    "\n",
    "### Top 5\n",
    "\n",
    "#### 1. Python.\n",
    "#### 2. SQL.\n",
    "#### 3. R.\n",
    "#### 4. Java.\n",
    "#### 5. Julia."
   ]
  },
  {
   "cell_type": "markdown",
   "id": "7bd9f528-9247-4e5c-a657-22bf2310a789",
   "metadata": {},
   "source": [
    "### Some of the popular libraries that Data Scientists use are:\n",
    "\n",
    "### Top 5\n",
    "\n",
    "#### 1. TensorFlow.\n",
    "#### 2. NumPy.\n",
    "#### 3. SciPy.\n",
    "#### 4. Pandas.\n",
    "#### 5. Matplotlib."
   ]
  },
  {
   "cell_type": "markdown",
   "id": "fe8534a3-c32f-4107-bcea-182d3d9b494c",
   "metadata": {},
   "source": [
    "## Data Science Tools:\n",
    "\n",
    "| Data Science Tools | Description |\n",
    "| -------------| ------ |\n",
    "| R | Commonly used for statistical analysis and data visualisation |\n",
    "| SQL | Structured query language to manage query database to extract and manipulate data |\n",
    "| Apache Spark | Open source tool for large scale data processing and analysis |"
   ]
  },
  {
   "cell_type": "markdown",
   "id": "5fe34dc9-9e06-4e5a-9095-6e6394f8dff3",
   "metadata": {},
   "source": [
    "### Below are a few examples of evaluating arithmetic expressions in Python"
   ]
  },
  {
   "cell_type": "code",
   "execution_count": 23,
   "id": "6cc550ca-4602-4e09-be3f-7861f1e15f3f",
   "metadata": {
    "tags": []
   },
   "outputs": [
    {
     "data": {
      "text/plain": [
       "17"
      ]
     },
     "execution_count": 23,
     "metadata": {},
     "output_type": "execute_result"
    }
   ],
   "source": [
    "# This a simple arithmetic expression to mutiply then add integers \n",
    "\n",
    "(3*4)+5\n",
    "\n"
   ]
  },
  {
   "cell_type": "code",
   "execution_count": 3,
   "id": "04923962-63b4-4958-a720-dd5ead33e9b9",
   "metadata": {
    "tags": []
   },
   "outputs": [
    {
     "name": "stdout",
     "output_type": "stream",
     "text": [
      "3.3333333333333335 hours, 0 mins. \n"
     ]
    }
   ],
   "source": [
    "# This will convert 200 minutes to hours by diving by 60\n",
    "hours = 0\n",
    "mins = 0\n",
    "time = 200\n",
    "additional_minutes = time % (24*60)\n",
    "hours = additional_minutes / 60\n",
    "#mins = time - (hours*60)\n",
    "print(str(hours) + \" hours, \" + str(mins) +  \" mins. \")"
   ]
  },
  {
   "cell_type": "code",
   "execution_count": 6,
   "id": "e7ef3469-e775-4afa-9e84-005c3682cb52",
   "metadata": {
    "tags": []
   },
   "outputs": [
    {
     "name": "stdout",
     "output_type": "stream",
     "text": [
      "200 minutes = 3 hours and 20 minutes.\n"
     ]
    }
   ],
   "source": [
    "assigned_mins = 200\n",
    "\n",
    "# Conversion min to hours\n",
    "hours = assigned_mins // 60\n",
    "add_minutes = assigned_mins % 60\n",
    "\n",
    "print(f\"{assigned_mins} minutes = {hours} hours and {add_minutes} minutes.\")"
   ]
  },
  {
   "cell_type": "markdown",
   "id": "315b5197-8fce-4d73-ae41-1f1f1d7a2009",
   "metadata": {
    "tags": []
   },
   "source": [
    "# In this notebook, Data Science Tools and Ecosystem is summarized as \n",
    "\n",
    "### **Objectives:**\n",
    "\n",
    "### 1. List down the most popular languages that Data Scientists use.\n",
    "### 2. List down the popular libraries used by Data Scientists.\n",
    "### 3. Create markdown and code cell to perform tasks\n",
    "### 4. Share the outputs for peer to peer review"
   ]
  },
  {
   "cell_type": "markdown",
   "id": "70822b03-815b-4c36-bd9a-ed4c30455f6b",
   "metadata": {},
   "source": [
    "## **Author:**\n",
    "\n",
    "### Sayan Khastagir"
   ]
  },
  {
   "cell_type": "code",
   "execution_count": null,
   "id": "882c5ea2-6014-4f25-a0d0-7b5ba1366468",
   "metadata": {},
   "outputs": [],
   "source": []
  }
 ],
 "metadata": {
  "kernelspec": {
   "display_name": "Python",
   "language": "python",
   "name": "conda-env-python-py"
  },
  "language_info": {
   "codemirror_mode": {
    "name": "ipython",
    "version": 3
   },
   "file_extension": ".py",
   "mimetype": "text/x-python",
   "name": "python",
   "nbconvert_exporter": "python",
   "pygments_lexer": "ipython3",
   "version": "3.7.12"
  }
 },
 "nbformat": 4,
 "nbformat_minor": 5
}
